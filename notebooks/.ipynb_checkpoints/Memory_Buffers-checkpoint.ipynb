{
 "cells": [
  {
   "cell_type": "code",
   "execution_count": 1,
   "metadata": {},
   "outputs": [
    {
     "name": "stdout",
     "output_type": "stream",
     "text": [
      "/home/sankha/Documents/programs/ML/RLalgos/src\n"
     ]
    }
   ],
   "source": [
    "cd ../src"
   ]
  },
  {
   "cell_type": "markdown",
   "metadata": {},
   "source": [
    "# SimpleReplayBuffer\n",
    "\n",
    "This is the simplest type of memory buffer available. It saves all the experiences in the memory, and is able to retrieve them as necessary. Since this relies upon saving the data in memory, there is a specific limit to the amount to memory this buffer will be able to save. You specify _apriori_ how much memory you wish to save. If the cpacity of the new memory becomes too high, this memory buffer will overwrite the old memories. The following sections will show how this memory buffer can be used. \n",
    "\n",
    "These are the properties of the `SimpleReplayBuffer` buffer:\n",
    "\n",
    "1. The simple memory buffer does not care about the type of data that you save within the buffer. The noly thing that it knows is that the data stored is in the form of a tuple.\n",
    "2. It contains functions that allow you to save the entire buffer on disk, and retrieve it at any point.\n",
    "3. You can save multiple tuples at the same time\n",
    "4. You will be able to randomly sample from the memory buffer in a simple manner\n",
    "\n",
    "Now that we have seen these properties, lst us check them out."
   ]
  },
  {
   "cell_type": "code",
   "execution_count": 2,
   "metadata": {},
   "outputs": [],
   "source": [
    "from lib.utils   import ReplayBuffer as RB"
   ]
  },
  {
   "cell_type": "code",
   "execution_count": 15,
   "metadata": {},
   "outputs": [],
   "source": [
    "try:\n",
    "    del buffer\n",
    "except:\n",
    "    pass\n",
    "buffer = RB.SimpleReplayBuffer(maxDataTuples=5)"
   ]
  },
  {
   "cell_type": "code",
   "execution_count": 16,
   "metadata": {},
   "outputs": [
    {
     "data": {
      "text/plain": [
       "(0, (0, None))"
      ]
     },
     "execution_count": 16,
     "metadata": {},
     "output_type": "execute_result"
    }
   ],
   "source": [
    "(buffer.len, buffer.shape)"
   ]
  },
  {
   "cell_type": "markdown",
   "metadata": {},
   "source": [
    "## 1. Insert Data\n",
    "\n",
    "Let us now insert some data. Remember that we can insert a maximum of 5 tuples inside it. This is a convinient way of finding out what the current shape and size of the buffer is."
   ]
  },
  {
   "cell_type": "code",
   "execution_count": 17,
   "metadata": {},
   "outputs": [
    {
     "name": "stdout",
     "output_type": "stream",
     "text": [
      "Length = 1, Shape = (1, 3)\n",
      "Length = 2, Shape = (2, 3)\n",
      "Length = 3, Shape = (3, 3)\n",
      "Length = 4, Shape = (4, 3)\n",
      "Length = 5, Shape = (5, 3)\n",
      "Length = 5, Shape = (5, 3)\n",
      "Length = 5, Shape = (5, 3)\n"
     ]
    }
   ],
   "source": [
    "for i in range(7):\n",
    "    toInsert = (i, i, i)\n",
    "    buffer.append( toInsert )\n",
    "    print(f'Length = {buffer.len}, Shape = {buffer.shape}')"
   ]
  },
  {
   "cell_type": "markdown",
   "metadata": {},
   "source": [
    "You can get get the values associated with the buffer directly"
   ]
  },
  {
   "cell_type": "code",
   "execution_count": 19,
   "metadata": {},
   "outputs": [
    {
     "data": {
      "text/plain": [
       "'Data within the memory buffer: deque([(2, 2, 2), (3, 3, 3), (4, 4, 4), (5, 5, 5), (6, 6, 6)], maxlen=5)'"
      ]
     },
     "execution_count": 19,
     "metadata": {},
     "output_type": "execute_result"
    }
   ],
   "source": [
    "f'Data within the memory buffer: {buffer.memory}'"
   ]
  },
  {
   "cell_type": "markdown",
   "metadata": {},
   "source": [
    "Now let's add one more tuple and see what happens:"
   ]
  },
  {
   "cell_type": "code",
   "execution_count": 20,
   "metadata": {},
   "outputs": [
    {
     "data": {
      "text/plain": [
       "deque([(3, 3, 3), (4, 4, 4), (5, 5, 5), (6, 6, 6), ('another', 'tuple')])"
      ]
     },
     "execution_count": 20,
     "metadata": {},
     "output_type": "execute_result"
    }
   ],
   "source": [
    "buffer.append(('another', 'tuple'))\n",
    "buffer.memory"
   ]
  },
  {
   "cell_type": "markdown",
   "metadata": {},
   "source": [
    "As you can see, the buffer pops things at the end. Also it doesn't care what you actually put inside the tuple. It is a simple buffer. You can also insert multiple things within the memory buffer at once. Let's see that in action:"
   ]
  },
  {
   "cell_type": "code",
   "execution_count": 21,
   "metadata": {},
   "outputs": [
    {
     "data": {
      "text/plain": [
       "deque([(5, 5, 5),\n",
       "       (6, 6, 6),\n",
       "       ('another', 'tuple'),\n",
       "       ('tuplel', '1'),\n",
       "       ('tuplel', '1')])"
      ]
     },
     "execution_count": 21,
     "metadata": {},
     "output_type": "execute_result"
    }
   ],
   "source": [
    "buffer.appendMany([('tuplel', '1'), ('tuplel', '1'), ])\n",
    "buffer.memory"
   ]
  },
  {
   "cell_type": "markdown",
   "metadata": {},
   "source": [
    "## 2. Sample Data\n",
    "Use it to save what you want. Now, remember that you can randomly sample from the buffer. It does nit matter how many you want to sample. This is going to reeturn yoou a sample from its available samples."
   ]
  },
  {
   "cell_type": "code",
   "execution_count": 23,
   "metadata": {},
   "outputs": [
    {
     "data": {
      "text/plain": [
       "[(5, 5, 5),\n",
       " (5, 5, 5),\n",
       " ('another', 'tuple'),\n",
       " ('another', 'tuple'),\n",
       " (5, 5, 5),\n",
       " ('another', 'tuple'),\n",
       " (6, 6, 6),\n",
       " ('another', 'tuple'),\n",
       " (6, 6, 6),\n",
       " ('another', 'tuple'),\n",
       " ('tuplel', '1'),\n",
       " ('tuplel', '1'),\n",
       " (5, 5, 5),\n",
       " (5, 5, 5),\n",
       " (5, 5, 5),\n",
       " ('tuplel', '1'),\n",
       " (6, 6, 6),\n",
       " ('another', 'tuple'),\n",
       " ('tuplel', '1'),\n",
       " ('tuplel', '1')]"
      ]
     },
     "execution_count": 23,
     "metadata": {},
     "output_type": "execute_result"
    }
   ],
   "source": [
    "buffer.sample(20)"
   ]
  },
  {
   "cell_type": "markdown",
   "metadata": {},
   "source": [
    "## 3. Save and Retrieve Data\n",
    "\n",
    "Saving and retrieving data is a breeze. This is an important feature. This will allow you to save not only the memory of the curreent game, but also another gane that perhaps yoou yourself played, and saved the state of. More of this when we are describing actors."
   ]
  },
  {
   "cell_type": "code",
   "execution_count": 24,
   "metadata": {},
   "outputs": [],
   "source": [
    "folder, name = '../data/memory', 'sample'\n",
    "buffer.save(folder, name)"
   ]
  },
  {
   "cell_type": "code",
   "execution_count": 26,
   "metadata": {},
   "outputs": [
    {
     "name": "stdout",
     "output_type": "stream",
     "text": [
      "Initial memory = deque([], maxlen=5)\n",
      "After loading memory = deque([(5, 5, 5), (6, 6, 6), ('another', 'tuple'), ('tuplel', '1'), ('tuplel', '1')], maxlen=5)\n"
     ]
    }
   ],
   "source": [
    "buffer1 = RB.SimpleReplayBuffer(5)\n",
    "print(f'Initial memory = {buffer1.memory}')\n",
    "buffer1.load( folder, name )\n",
    "print(f'After loading memory = {buffer1.memory}')"
   ]
  },
  {
   "cell_type": "code",
   "execution_count": null,
   "metadata": {},
   "outputs": [],
   "source": []
  }
 ],
 "metadata": {
  "kernelspec": {
   "display_name": "Python 3",
   "language": "python",
   "name": "python3"
  },
  "language_info": {
   "codemirror_mode": {
    "name": "ipython",
    "version": 3
   },
   "file_extension": ".py",
   "mimetype": "text/x-python",
   "name": "python",
   "nbconvert_exporter": "python",
   "pygments_lexer": "ipython3",
   "version": "3.6.8"
  }
 },
 "nbformat": 4,
 "nbformat_minor": 2
}
