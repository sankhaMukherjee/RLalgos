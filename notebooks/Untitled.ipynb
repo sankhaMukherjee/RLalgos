{
 "cells": [
  {
   "cell_type": "code",
   "execution_count": 1,
   "metadata": {},
   "outputs": [],
   "source": [
    "import numpy as np\n",
    "import csv\n",
    "import json"
   ]
  },
  {
   "cell_type": "code",
   "execution_count": 3,
   "metadata": {},
   "outputs": [],
   "source": [
    "fileName = '../results/agentDQN.csv'"
   ]
  },
  {
   "cell_type": "code",
   "execution_count": 9,
   "metadata": {},
   "outputs": [
    {
     "name": "stdout",
     "output_type": "stream",
     "text": [
      "0.999 0.001\n",
      "0.999 0.001\n",
      "0.999 0.001\n",
      "0.999 0.001\n",
      "0.999 0.001\n",
      "0.999 0.001\n",
      "0.999 0.001\n",
      "0.999 0.001\n",
      "0.999 0.001\n",
      "0.999 0.001\n",
      "0.988 0.001\n",
      "0.988 0.001\n",
      "0.988 0.001\n",
      "0.988 0.001\n",
      "0.988 0.001\n",
      "0.988 0.001\n",
      "0.988 0.001\n",
      "0.988 0.001\n",
      "0.988 0.001\n",
      "0.988 0.001\n",
      "0.977 0.001\n",
      "0.977 0.001\n",
      "0.977 0.001\n",
      "0.977 0.001\n",
      "0.977 0.001\n",
      "0.977 0.001\n",
      "0.977 0.001\n",
      "0.977 0.001\n",
      "0.977 0.001\n",
      "0.977 0.001\n",
      "0.966 0.001\n",
      "0.966 0.001\n",
      "0.966 0.001\n",
      "0.966 0.001\n",
      "0.966 0.001\n",
      "0.966 0.001\n",
      "0.966 0.001\n",
      "0.966 0.001\n",
      "0.966 0.001\n",
      "0.966 0.001\n",
      "0.955 0.001\n",
      "0.955 0.001\n",
      "0.955 0.001\n",
      "0.955 0.001\n",
      "0.955 0.001\n",
      "0.955 0.001\n",
      "0.955 0.001\n",
      "0.955 0.001\n",
      "0.955 0.001\n",
      "0.955 0.001\n",
      "0.9440000000000001 0.001\n",
      "0.9440000000000001 0.001\n",
      "0.9440000000000001 0.001\n",
      "0.9440000000000001 0.001\n",
      "0.9440000000000001 0.001\n",
      "0.9440000000000001 0.001\n",
      "0.9440000000000001 0.001\n",
      "0.9440000000000001 0.001\n",
      "0.9440000000000001 0.001\n",
      "0.9440000000000001 0.001\n",
      "0.933 0.001\n",
      "0.933 0.001\n",
      "0.933 0.001\n",
      "0.933 0.001\n",
      "0.933 0.001\n",
      "0.933 0.001\n",
      "0.933 0.001\n",
      "0.933 0.001\n",
      "0.933 0.001\n",
      "0.933 0.001\n",
      "0.922 0.001\n"
     ]
    }
   ],
   "source": [
    "with open(fileName) as f:\n",
    "    reader = csv.reader(f)\n",
    "    for l in reader:\n",
    "        t, specs, scores, sumScores = l\n",
    "        specs = json.loads(specs)\n",
    "        decay, lr = specs['epsDecay'], specs['lr']\n",
    "        print(decay, lr)"
   ]
  },
  {
   "cell_type": "code",
   "execution_count": 10,
   "metadata": {},
   "outputs": [
    {
     "name": "stdout",
     "output_type": "stream",
     "text": [
      "2019-03-28_23-15-45.log  2019-03-29_07-46-13.log  2019-03-29_15-54-10.log\r\n",
      "2019-03-28_23-16-19.log  2019-03-29_08-04-44.log  2019-03-29_16-12-48.log\r\n",
      "2019-03-29_00-24-43.log  2019-03-29_08-23-31.log  2019-03-29_16-31-39.log\r\n",
      "2019-03-29_00-34-48.log  2019-03-29_08-42-06.log  2019-03-29_16-50-36.log\r\n",
      "2019-03-29_00-53-44.log  2019-03-29_09-00-47.log  2019-03-29_17-09-26.log\r\n",
      "2019-03-29_01-12-23.log  2019-03-29_09-19-47.log  2019-03-29_17-28-11.log\r\n",
      "2019-03-29_01-31-15.log  2019-03-29_09-38-27.log  2019-03-29_17-46-57.log\r\n",
      "2019-03-29_01-49-46.log  2019-03-29_09-57-10.log  2019-03-29_18-05-35.log\r\n",
      "2019-03-29_02-08-42.log  2019-03-29_10-15-56.log  2019-03-29_18-24-07.log\r\n",
      "2019-03-29_02-27-31.log  2019-03-29_10-34-44.log  2019-03-29_18-43-02.log\r\n",
      "2019-03-29_02-46-04.log  2019-03-29_10-53-23.log  2019-03-29_19-01-48.log\r\n",
      "2019-03-29_03-05-01.log  2019-03-29_11-12-20.log  2019-03-29_19-20-31.log\r\n",
      "2019-03-29_03-23-49.log  2019-03-29_11-31-09.log  2019-03-29_19-39-19.log\r\n",
      "2019-03-29_03-42-40.log  2019-03-29_11-50-03.log  2019-03-29_19-58-14.log\r\n",
      "2019-03-29_04-01-30.log  2019-03-29_12-08-47.log  2019-03-29_20-17-00.log\r\n",
      "2019-03-29_04-20-04.log  2019-03-29_12-27-17.log  2019-03-29_20-35-35.log\r\n",
      "2019-03-29_04-38-35.log  2019-03-29_12-46-00.log  2019-03-29_20-54-23.log\r\n",
      "2019-03-29_04-57-31.log  2019-03-29_13-04-37.log  2019-03-29_21-13-03.log\r\n",
      "2019-03-29_05-16-21.log  2019-03-29_13-23-20.log  2019-03-29_21-31-59.log\r\n",
      "2019-03-29_05-35-17.log  2019-03-29_13-42-11.log  2019-03-29_21-50-34.log\r\n",
      "2019-03-29_05-53-55.log  2019-03-29_14-01-02.log  2019-03-29_22-09-19.log\r\n",
      "2019-03-29_06-12-47.log  2019-03-29_14-19-55.log  2019-03-29_22-27-59.log\r\n",
      "2019-03-29_06-31-22.log  2019-03-29_14-38-50.log  2019-03-29_22-46-47.log\r\n",
      "2019-03-29_06-50-01.log  2019-03-29_14-57-37.log  __init__.py\r\n",
      "2019-03-29_07-08-42.log  2019-03-29_15-16-35.log  logDecorator.py\r\n",
      "2019-03-29_07-27-36.log  2019-03-29_15-35-14.log  \u001b[0m\u001b[01;34m__pycache__\u001b[0m/\r\n"
     ]
    }
   ],
   "source": [
    "ls ../src/logs"
   ]
  },
  {
   "cell_type": "code",
   "execution_count": 11,
   "metadata": {},
   "outputs": [
    {
     "name": "stdout",
     "output_type": "stream",
     "text": [
      "2019-03-29 22:46:47,966 - RLalgos - INFO - Starting the main program ...\r\n",
      "2019-03-29 22:46:47,966 - RLalgos.importModules - INFO - Starting the function [importModules] ...\r\n",
      "2019-03-29 22:46:47,967 - RLalgos.importModules - INFO - Module module1 is being skipped\r\n",
      "2019-03-29 22:46:47,967 - RLalgos.importModules - INFO - Module tests is being skipped\r\n",
      "2019-03-29 22:46:47,967 - RLalgos.importModules - INFO - Module testAgents is being skipped\r\n",
      "2019-03-29 22:46:47,967 - RLalgos.importModules - INFO - Module DQNagent is being executed\r\n",
      "2019-03-29 22:46:48,242 - RLalgos.modules.DQNagent.DQNagent.main - INFO - Starting the function [main] ...\r\n",
      "2019-03-29 22:46:48,243 - RLalgos.modules.DQNagent.DQNagent.main - WARNING -  epsDecay not set from the input: 'nIterations'\r\n",
      "2019-03-29 22:46:48,243 - RLalgos.modules.DQNagent.DQNagent.main - WARNING -  epsDecay not set from the input: 'initMemoryIterations'\r\n",
      "2019-03-29 22:46:48,243 - RLalgos.modules.DQNagent.DQNagent.main - WARNING -  epsDecay not set from the input: 'eps0'\r\n",
      "2019-03-29 22:46:48,243 - RLalgos.modules.DQNagent.DQNagent.main - WARNING -  epsDecay not set from the input: 'minEps'\r\n",
      "2019-03-29 22:46:48,243 - RLalgos.modules.DQNagent.DQNagent.main - WARNING -  epsDecay not set from the input: 'maxSteps'\r\n",
      "2019-03-29 22:46:48,243 - RLalgos.modules.DQNagent.DQNagent.main - WARNING -  epsDecay not set from the input: 'nSamples'\r\n",
      "2019-03-29 22:46:48,243 - RLalgos.modules.DQNagent.DQNagent.main - WARNING -  epsDecay not set from the input: 'Tau'\r\n",
      "2019-03-29 22:46:48,243 - RLalgos.modules.DQNagent.DQNagent.main - WARNING -  epsDecay not set from the input: 'lr'\r\n",
      "2019-03-29 22:46:48,243 - RLalgos.modules.DQNagent.runAgent.runAgent - INFO - Starting the function [runAgent] ...\r\n",
      "2019-03-29 22:46:48,243 - RLalgos.modules.DQNagent.runAgent.trainAgent - INFO - Starting the function [trainAgent] ...\r\n"
     ]
    }
   ],
   "source": [
    "cat ../src/logs/2019-03-29_22-46-47.log"
   ]
  },
  {
   "cell_type": "code",
   "execution_count": null,
   "metadata": {},
   "outputs": [],
   "source": []
  }
 ],
 "metadata": {
  "kernelspec": {
   "display_name": "Python 3",
   "language": "python",
   "name": "python3"
  },
  "language_info": {
   "codemirror_mode": {
    "name": "ipython",
    "version": 3
   },
   "file_extension": ".py",
   "mimetype": "text/x-python",
   "name": "python",
   "nbconvert_exporter": "python",
   "pygments_lexer": "ipython3",
   "version": "3.6.7"
  }
 },
 "nbformat": 4,
 "nbformat_minor": 2
}
